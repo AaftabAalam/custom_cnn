{
 "cells": [
  {
   "cell_type": "code",
   "execution_count": 1,
   "metadata": {},
   "outputs": [],
   "source": [
    "from tensorflow.keras import Sequential,datasets\n",
    "from tensorflow.keras.layers import Dense,Flatten,Conv2D,MaxPooling2D"
   ]
  },
  {
   "cell_type": "code",
   "execution_count": 2,
   "metadata": {},
   "outputs": [],
   "source": [
    "import numpy as np\n",
    "import matplotlib.pyplot as mplt\n",
    "import os\n",
    "from tensorflow.keras.layers import Dropout\n",
    "from keras.preprocessing.image import load_img\n",
    "from keras.preprocessing.image import img_to_array\n",
    "from keras.models import load_model"
   ]
  },
  {
   "cell_type": "code",
   "execution_count": 19,
   "metadata": {},
   "outputs": [],
   "source": [
    "(train_images,train_labels),(test_images,test_labels) = datasets.cifar10.load_data()"
   ]
  },
  {
   "cell_type": "code",
   "execution_count": 20,
   "metadata": {},
   "outputs": [
    {
     "data": {
      "text/plain": [
       "(50000, 32, 32, 3)"
      ]
     },
     "execution_count": 20,
     "metadata": {},
     "output_type": "execute_result"
    }
   ],
   "source": [
    "train_images.shape"
   ]
  },
  {
   "cell_type": "code",
   "execution_count": 21,
   "metadata": {},
   "outputs": [
    {
     "data": {
      "text/plain": [
       "(50000, 1)"
      ]
     },
     "execution_count": 21,
     "metadata": {},
     "output_type": "execute_result"
    }
   ],
   "source": [
    "train_labels.shape"
   ]
  },
  {
   "cell_type": "code",
   "execution_count": 22,
   "metadata": {},
   "outputs": [
    {
     "data": {
      "text/plain": [
       "array([[6],\n",
       "       [9],\n",
       "       [9],\n",
       "       ...,\n",
       "       [9],\n",
       "       [1],\n",
       "       [1]], dtype=uint8)"
      ]
     },
     "execution_count": 22,
     "metadata": {},
     "output_type": "execute_result"
    }
   ],
   "source": [
    "train_labels"
   ]
  },
  {
   "cell_type": "code",
   "execution_count": 23,
   "metadata": {},
   "outputs": [
    {
     "data": {
      "text/plain": [
       "array([6, 9, 9, ..., 9, 1, 1], dtype=uint8)"
      ]
     },
     "execution_count": 23,
     "metadata": {},
     "output_type": "execute_result"
    }
   ],
   "source": [
    "train_labels = train_labels.reshape(-1,)\n",
    "train_labels"
   ]
  },
  {
   "cell_type": "code",
   "execution_count": 24,
   "metadata": {},
   "outputs": [
    {
     "data": {
      "text/plain": [
       "array([3, 8, 8, ..., 5, 1, 7], dtype=uint8)"
      ]
     },
     "execution_count": 24,
     "metadata": {},
     "output_type": "execute_result"
    }
   ],
   "source": [
    "test_labels = test_labels.reshape(-1,)\n",
    "test_labels"
   ]
  },
  {
   "cell_type": "code",
   "execution_count": 16,
   "metadata": {},
   "outputs": [
    {
     "data": {
      "text/plain": [
       "10"
      ]
     },
     "execution_count": 16,
     "metadata": {},
     "output_type": "execute_result"
    }
   ],
   "source": [
    "labels_classes = ['Airplane','automobile','bird','cat','deer','dog','frog','horse','ship','truck']\n",
    "np.size(labels_classes)"
   ]
  },
  {
   "cell_type": "code",
   "execution_count": 26,
   "metadata": {},
   "outputs": [
    {
     "data": {
      "text/plain": [
       "'Airplane'"
      ]
     },
     "execution_count": 26,
     "metadata": {},
     "output_type": "execute_result"
    }
   ],
   "source": [
    "labels_classes[0]"
   ]
  },
  {
   "cell_type": "code",
   "execution_count": 16,
   "metadata": {},
   "outputs": [],
   "source": [
    "def show_img(feature,labels,index):\n",
    "    mplt.imshow(feature[index])"
   ]
  },
  {
   "cell_type": "code",
   "execution_count": 17,
   "metadata": {},
   "outputs": [
    {
     "data": {
      "text/plain": [
       "<matplotlib.image.AxesImage at 0x28df665e0>"
      ]
     },
     "execution_count": 17,
     "metadata": {},
     "output_type": "execute_result"
    },
    {
     "data": {
      "image/png": "[encoded data removed]",
      "text/plain": [
       "<Figure size 640x480 with 1 Axes>"
      ]
     },
     "metadata": {},
     "output_type": "display_data"
    }
   ],
   "source": [
    "mplt.imshow(test_images[0])"
   ]
  },
  {
   "cell_type": "code",
   "execution_count": 18,
   "metadata": {},
   "outputs": [
    {
     "data": {
      "image/png": "[encoded data removed]",
      "text/plain": [
       "<Figure size 640x480 with 1 Axes>"
      ]
     },
     "metadata": {},
     "output_type": "display_data"
    }
   ],
   "source": [
    "show_img(train_images,train_labels,1)"
   ]
  },
  {
   "cell_type": "code",
   "execution_count": 27,
   "metadata": {},
   "outputs": [],
   "source": [
    "train_images = train_images/255\n",
    "test_images = test_images/255"
   ]
  },
  {
   "cell_type": "code",
   "execution_count": 3,
   "metadata": {},
   "outputs": [],
   "source": [
    "from tensorflow.keras import layers,models"
   ]
  },
  {
   "cell_type": "code",
   "execution_count": 4,
   "metadata": {},
   "outputs": [],
   "source": [
    "from tensorflow.keras.layers import Dropout,LeakyReLU"
   ]
  },
  {
   "cell_type": "code",
   "execution_count": 5,
   "metadata": {},
   "outputs": [],
   "source": [
    "from keras.layers import Activation,BatchNormalization,AveragePooling2D"
   ]
  },
  {
   "cell_type": "code",
   "execution_count": 112,
   "metadata": {},
   "outputs": [],
   "source": [
    "cnn = Sequential()\n",
    "\n",
    "cnn.add(Conv2D(filters=80,kernel_size=(2,2),input_shape=(32,32,3)))\n",
    "cnn.add(BatchNormalization())\n",
    "cnn.add(LeakyReLU(alpha=0.2))\n",
    "cnn.add(Conv2D(filters=120,kernel_size=(2,2)))\n",
    "cnn.add(LeakyReLU(alpha=0.2))\n",
    "cnn.add(AveragePooling2D(pool_size=(3,3)))\n",
    "cnn.add(BatchNormalization())\n",
    "cnn.add(Dropout(0.2))\n",
    "\n",
    "cnn.add(Conv2D(filters=80,kernel_size=(3,3)))\n",
    "cnn.add(BatchNormalization())\n",
    "cnn.add(LeakyReLU(alpha=0.2))\n",
    "cnn.add(Conv2D(filters=120,kernel_size=(3,3)))\n",
    "cnn.add(LeakyReLU(alpha=0.2))\n",
    "cnn.add(BatchNormalization())\n",
    "cnn.add(Dropout(0.2))\n",
    "\n",
    "cnn.add(Conv2D(filters=100,kernel_size=(2,2)))\n",
    "cnn.add(LeakyReLU(alpha=0.2))\n",
    "cnn.add(BatchNormalization())\n",
    "cnn.add(Conv2D(filters=100,kernel_size=(2,2)))\n",
    "cnn.add(LeakyReLU(alpha=0.2))\n",
    "cnn.add(AveragePooling2D(pool_size=(3,3)))\n",
    "cnn.add(BatchNormalization())\n",
    "cnn.add(Dropout(0.2))\n",
    "\n",
    "cnn.add(Flatten())\n",
    "\n",
    "cnn.add(Dense(80))\n",
    "cnn.add(LeakyReLU(alpha=0.2))\n",
    "cnn.add(BatchNormalization())\n",
    "\n",
    "cnn.add(Dense(120))\n",
    "cnn.add(LeakyReLU(alpha=0.2))\n",
    "cnn.add(BatchNormalization())\n",
    "cnn.add(Dropout(0.2))\n",
    "\n",
    "cnn.add(Dense(120))\n",
    "cnn.add(LeakyReLU(alpha=0.2))\n",
    "cnn.add(BatchNormalization())\n",
    "cnn.add(Dropout(0.2))\n",
    "\n",
    "cnn.add(Dense(120))\n",
    "cnn.add(LeakyReLU(alpha=0.2))\n",
    "cnn.add(BatchNormalization())\n",
    "cnn.add(Dropout(0.2))\n",
    "\n",
    "cnn.add(Dense(25))\n",
    "cnn.add(LeakyReLU(alpha=0.3))\n",
    "cnn.add(BatchNormalization())\n",
    "\n",
    "cnn.add(Dense(10,activation='softmax'))"
   ]
  },
  {
   "cell_type": "code",
   "execution_count": 113,
   "metadata": {},
   "outputs": [
    {
     "name": "stdout",
     "output_type": "stream",
     "text": [
      "Model: \"sequential_20\"\n",
      "_________________________________________________________________\n",
      " Layer (type)                Output Shape              Param #   \n",
      "=================================================================\n",
      " conv2d_76 (Conv2D)          (None, 31, 31, 80)        1040      \n",
      "                                                                 \n",
      " batch_normalization_71 (Ba  (None, 31, 31, 80)        320       \n",
      " tchNormalization)                                               \n",
      "                                                                 \n",
      " leaky_re_lu_46 (LeakyReLU)  (None, 31, 31, 80)        0         \n",
      "                                                                 \n",
      " conv2d_77 (Conv2D)          (None, 30, 30, 120)       38520     \n",
      "                                                                 \n",
      " leaky_re_lu_47 (LeakyReLU)  (None, 30, 30, 120)       0         \n",
      "                                                                 \n",
      " average_pooling2d_19 (Aver  (None, 10, 10, 120)       0         \n",
      " agePooling2D)                                                   \n",
      "                                                                 \n",
      " batch_normalization_72 (Ba  (None, 10, 10, 120)       480       \n",
      " tchNormalization)                                               \n",
      "                                                                 \n",
      " dropout_45 (Dropout)        (None, 10, 10, 120)       0         \n",
      "                                                                 \n",
      " conv2d_78 (Conv2D)          (None, 8, 8, 80)          86480     \n",
      "                                                                 \n",
      " batch_normalization_73 (Ba  (None, 8, 8, 80)          320       \n",
      " tchNormalization)                                               \n",
      "                                                                 \n",
      " leaky_re_lu_48 (LeakyReLU)  (None, 8, 8, 80)          0         \n",
      "                                                                 \n",
      " conv2d_79 (Conv2D)          (None, 6, 6, 120)         86520     \n",
      "                                                                 \n",
      " leaky_re_lu_49 (LeakyReLU)  (None, 6, 6, 120)         0         \n",
      "                                                                 \n",
      " batch_normalization_74 (Ba  (None, 6, 6, 120)         480       \n",
      " tchNormalization)                                               \n",
      "                                                                 \n",
      " dropout_46 (Dropout)        (None, 6, 6, 120)         0         \n",
      "                                                                 \n",
      " conv2d_80 (Conv2D)          (None, 5, 5, 100)         48100     \n",
      "                                                                 \n",
      " leaky_re_lu_50 (LeakyReLU)  (None, 5, 5, 100)         0         \n",
      "                                                                 \n",
      " batch_normalization_75 (Ba  (None, 5, 5, 100)         400       \n",
      " tchNormalization)                                               \n",
      "                                                                 \n",
      " conv2d_81 (Conv2D)          (None, 4, 4, 100)         40100     \n",
      "                                                                 \n",
      " leaky_re_lu_51 (LeakyReLU)  (None, 4, 4, 100)         0         \n",
      "                                                                 \n",
      " average_pooling2d_20 (Aver  (None, 1, 1, 100)         0         \n",
      " agePooling2D)                                                   \n",
      "                                                                 \n",
      " batch_normalization_76 (Ba  (None, 1, 1, 100)         400       \n",
      " tchNormalization)                                               \n",
      "                                                                 \n",
      " dropout_47 (Dropout)        (None, 1, 1, 100)         0         \n",
      "                                                                 \n",
      " flatten_11 (Flatten)        (None, 100)               0         \n",
      "                                                                 \n",
      " dense_38 (Dense)            (None, 80)                8080      \n",
      "                                                                 \n",
      " leaky_re_lu_52 (LeakyReLU)  (None, 80)                0         \n",
      "                                                                 \n",
      " batch_normalization_77 (Ba  (None, 80)                320       \n",
      " tchNormalization)                                               \n",
      "                                                                 \n",
      " dense_39 (Dense)            (None, 120)               9720      \n",
      "                                                                 \n",
      " leaky_re_lu_53 (LeakyReLU)  (None, 120)               0         \n",
      "                                                                 \n",
      " batch_normalization_78 (Ba  (None, 120)               480       \n",
      " tchNormalization)                                               \n",
      "                                                                 \n",
      " dropout_48 (Dropout)        (None, 120)               0         \n",
      "                                                                 \n",
      " dense_40 (Dense)            (None, 120)               14520     \n",
      "                                                                 \n",
      " leaky_re_lu_54 (LeakyReLU)  (None, 120)               0         \n",
      "                                                                 \n",
      " batch_normalization_79 (Ba  (None, 120)               480       \n",
      " tchNormalization)                                               \n",
      "                                                                 \n",
      " dropout_49 (Dropout)        (None, 120)               0         \n",
      "                                                                 \n",
      " dense_41 (Dense)            (None, 120)               14520     \n",
      "                                                                 \n",
      " leaky_re_lu_55 (LeakyReLU)  (None, 120)               0         \n",
      "                                                                 \n",
      " batch_normalization_80 (Ba  (None, 120)               480       \n",
      " tchNormalization)                                               \n",
      "                                                                 \n",
      " dropout_50 (Dropout)        (None, 120)               0         \n",
      "                                                                 \n",
      " dense_42 (Dense)            (None, 25)                3025      \n",
      "                                                                 \n",
      " leaky_re_lu_56 (LeakyReLU)  (None, 25)                0         \n",
      "                                                                 \n",
      " batch_normalization_81 (Ba  (None, 25)                100       \n",
      " tchNormalization)                                               \n",
      "                                                                 \n",
      " dense_43 (Dense)            (None, 10)                260       \n",
      "                                                                 \n",
      "=================================================================\n",
      "Total params: 355145 (1.35 MB)\n",
      "Trainable params: 353015 (1.35 MB)\n",
      "Non-trainable params: 2130 (8.32 KB)\n",
      "_________________________________________________________________\n"
     ]
    }
   ],
   "source": [
    "cnn.summary()"
   ]
  },
  {
   "cell_type": "code",
   "execution_count": 114,
   "metadata": {},
   "outputs": [],
   "source": [
    "cnn.compile(\n",
    "    optimizer='adam',\n",
    "    loss='sparse_categorical_crossentropy',\n",
    "    metrics=['accuracy']\n",
    ")"
   ]
  },
  {
   "cell_type": "code",
   "execution_count": 115,
   "metadata": {},
   "outputs": [],
   "source": [
    "from tensorflow.keras.callbacks import EarlyStopping"
   ]
  },
  {
   "cell_type": "code",
   "execution_count": 116,
   "metadata": {},
   "outputs": [],
   "source": [
    "earlystopping = EarlyStopping(\n",
    "    monitor = 'val_loss',\n",
    "    patience = 6,\n",
    "    restore_best_weights = True\n",
    ")"
   ]
  },
  {
   "cell_type": "code",
   "execution_count": 117,
   "metadata": {},
   "outputs": [
    {
     "name": "stdout",
     "output_type": "stream",
     "text": [
      "Epoch 1/30\n"
     ]
    },
    {
     "name": "stderr",
     "output_type": "stream",
     "text": [
      "2024-06-24 18:51:30.390029: I tensorflow/core/grappler/optimizers/custom_graph_optimizer_registry.cc:114] Plugin optimizer for device_type GPU is enabled.\n"
     ]
    },
    {
     "name": "stdout",
     "output_type": "stream",
     "text": [
      "98/98 [==============================] - ETA: 0s - loss: 1.8000 - accuracy: 0.3428"
     ]
    },
    {
     "name": "stderr",
     "output_type": "stream",
     "text": [
      "2024-06-24 18:52:29.110252: I tensorflow/core/grappler/optimizers/custom_graph_optimizer_registry.cc:114] Plugin optimizer for device_type GPU is enabled.\n"
     ]
    },
    {
     "name": "stdout",
     "output_type": "stream",
     "text": [
      "98/98 [==============================] - 64s 581ms/step - loss: 1.8000 - accuracy: 0.3428 - val_loss: 2.7409 - val_accuracy: 0.1214\n",
      "Epoch 2/30\n",
      "98/98 [==============================] - 52s 529ms/step - loss: 1.3682 - accuracy: 0.5085 - val_loss: 3.3059 - val_accuracy: 0.1049\n",
      "Epoch 3/30\n",
      "98/98 [==============================] - 52s 527ms/step - loss: 1.1618 - accuracy: 0.5900 - val_loss: 3.4498 - val_accuracy: 0.1023\n",
      "Epoch 4/30\n",
      "98/98 [==============================] - 52s 533ms/step - loss: 1.0367 - accuracy: 0.6379 - val_loss: 2.6780 - val_accuracy: 0.2147\n",
      "Epoch 5/30\n",
      "98/98 [==============================] - 52s 535ms/step - loss: 0.9494 - accuracy: 0.6706 - val_loss: 1.8423 - val_accuracy: 0.4440\n",
      "Epoch 6/30\n",
      "98/98 [==============================] - 54s 554ms/step - loss: 0.8761 - accuracy: 0.7001 - val_loss: 1.0681 - val_accuracy: 0.6315\n",
      "Epoch 7/30\n",
      "98/98 [==============================] - 53s 539ms/step - loss: 0.8243 - accuracy: 0.7194 - val_loss: 1.0420 - val_accuracy: 0.6535\n",
      "Epoch 8/30\n",
      "98/98 [==============================] - 51s 521ms/step - loss: 0.7836 - accuracy: 0.7318 - val_loss: 0.9341 - val_accuracy: 0.6894\n",
      "Epoch 9/30\n",
      "98/98 [==============================] - 51s 517ms/step - loss: 0.7428 - accuracy: 0.7469 - val_loss: 0.8488 - val_accuracy: 0.7123\n",
      "Epoch 10/30\n",
      "98/98 [==============================] - 51s 523ms/step - loss: 0.7081 - accuracy: 0.7588 - val_loss: 0.9099 - val_accuracy: 0.6896\n",
      "Epoch 11/30\n",
      "98/98 [==============================] - 53s 541ms/step - loss: 0.6715 - accuracy: 0.7717 - val_loss: 0.7727 - val_accuracy: 0.7416\n",
      "Epoch 12/30\n",
      "98/98 [==============================] - 52s 530ms/step - loss: 0.6488 - accuracy: 0.7797 - val_loss: 1.0419 - val_accuracy: 0.6886\n",
      "Epoch 13/30\n",
      "98/98 [==============================] - 51s 524ms/step - loss: 0.6269 - accuracy: 0.7871 - val_loss: 0.6850 - val_accuracy: 0.7703\n",
      "Epoch 14/30\n",
      "98/98 [==============================] - 51s 518ms/step - loss: 0.5970 - accuracy: 0.7978 - val_loss: 0.6975 - val_accuracy: 0.7663\n",
      "Epoch 15/30\n",
      "98/98 [==============================] - 51s 523ms/step - loss: 0.5871 - accuracy: 0.8017 - val_loss: 0.7345 - val_accuracy: 0.7516\n",
      "Epoch 16/30\n",
      "98/98 [==============================] - 54s 548ms/step - loss: 0.5654 - accuracy: 0.8089 - val_loss: 0.7163 - val_accuracy: 0.7587\n",
      "Epoch 17/30\n",
      "98/98 [==============================] - 54s 554ms/step - loss: 0.5438 - accuracy: 0.8156 - val_loss: 0.8568 - val_accuracy: 0.7261\n",
      "Epoch 18/30\n",
      "98/98 [==============================] - 54s 555ms/step - loss: 0.5248 - accuracy: 0.8211 - val_loss: 0.7192 - val_accuracy: 0.7655\n",
      "Epoch 19/30\n",
      "98/98 [==============================] - 53s 544ms/step - loss: 0.5157 - accuracy: 0.8256 - val_loss: 0.7328 - val_accuracy: 0.7601\n"
     ]
    },
    {
     "data": {
      "text/plain": [
       "<keras.src.callbacks.History at 0x325a05bb0>"
      ]
     },
     "execution_count": 117,
     "metadata": {},
     "output_type": "execute_result"
    }
   ],
   "source": [
    "cnn.fit(train_images,train_labels,epochs=30,batch_size=512,validation_data=(test_images,test_labels),\n",
    "        callbacks=[earlystopping])"
   ]
  },
  {
   "cell_type": "code",
   "execution_count": 118,
   "metadata": {},
   "outputs": [
    {
     "name": "stdout",
     "output_type": "stream",
     "text": [
      "313/313 [==============================] - 6s 19ms/step - loss: 0.6850 - accuracy: 0.7703\n",
      "Loss is:0.68 and Accuracy is:77.03\n"
     ]
    }
   ],
   "source": [
    "loss,accu = cnn.evaluate(test_images,test_labels)\n",
    "print(f'Loss is:{loss:.2f} and Accuracy is:{accu*100:.2f}')"
   ]
  },
  {
   "cell_type": "code",
   "execution_count": 2,
   "metadata": {},
   "outputs": [],
   "source": [
    "#cnn.save('cnn_model.h5')"
   ]
  },
  {
   "cell_type": "code",
   "execution_count": 6,
   "metadata": {},
   "outputs": [],
   "source": [
    "from tensorflow import keras"
   ]
  },
  {
   "cell_type": "code",
   "execution_count": 7,
   "metadata": {},
   "outputs": [
    {
     "name": "stderr",
     "output_type": "stream",
     "text": [
      "2024-06-25 13:00:58.202710: I metal_plugin/src/device/metal_device.cc:1154] Metal device set to: Apple M1\n",
      "2024-06-25 13:00:58.202739: I metal_plugin/src/device/metal_device.cc:296] systemMemory: 16.00 GB\n",
      "2024-06-25 13:00:58.202747: I metal_plugin/src/device/metal_device.cc:313] maxCacheSize: 5.33 GB\n",
      "2024-06-25 13:00:58.203192: I tensorflow/core/common_runtime/pluggable_device/pluggable_device_factory.cc:303] Could not identify NUMA node of platform GPU ID 0, defaulting to 0. Your kernel may not have been built with NUMA support.\n",
      "2024-06-25 13:00:58.203575: I tensorflow/core/common_runtime/pluggable_device/pluggable_device_factory.cc:269] Created TensorFlow device (/job:localhost/replica:0/task:0/device:GPU:0 with 0 MB memory) -> physical PluggableDevice (device: 0, name: METAL, pci bus id: <undefined>)\n"
     ]
    },
    {
     "data": {
      "text/plain": [
       "<keras.src.engine.sequential.Sequential at 0x294b282b0>"
      ]
     },
     "execution_count": 7,
     "metadata": {},
     "output_type": "execute_result"
    }
   ],
   "source": [
    "cnn_model = keras.models.load_model('cnn_model.h5')\n",
    "cnn_model"
   ]
  },
  {
   "cell_type": "code",
   "execution_count": 30,
   "metadata": {},
   "outputs": [
    {
     "name": "stdout",
     "output_type": "stream",
     "text": [
      "313/313 [==============================] - 5s 14ms/step\n"
     ]
    },
    {
     "data": {
      "text/plain": [
       "array([[8.6891437e-03, 4.4874111e-04, 2.0794760e-02, ..., 1.0290612e-03,\n",
       "        1.5250671e-03, 2.6291367e-04],\n",
       "       [2.0078966e-02, 6.3021660e-01, 4.3962646e-05, ..., 3.0972496e-05,\n",
       "        3.4489241e-01, 4.6289228e-03],\n",
       "       [3.5784978e-02, 2.2719460e-02, 1.0492017e-03, ..., 7.4324763e-04,\n",
       "        9.2711258e-01, 6.5622223e-03],\n",
       "       ...,\n",
       "       [4.7442514e-05, 4.1505086e-06, 5.2893027e-03, ..., 1.3071694e-03,\n",
       "        3.4926547e-05, 3.9508632e-05],\n",
       "       [1.2475648e-02, 1.9985570e-03, 5.8333252e-02, ..., 8.7197162e-03,\n",
       "        7.1875181e-04, 3.4716862e-04],\n",
       "       [6.8939171e-06, 6.7124060e-06, 4.2052743e-06, ..., 9.9856240e-01,\n",
       "        9.0209687e-06, 9.9828558e-06]], dtype=float32)"
      ]
     },
     "execution_count": 30,
     "metadata": {},
     "output_type": "execute_result"
    }
   ],
   "source": [
    "preds_prob = cnn_model.predict(test_images)\n",
    "preds_prob"
   ]
  },
  {
   "cell_type": "code",
   "execution_count": 31,
   "metadata": {},
   "outputs": [
    {
     "data": {
      "text/plain": [
       "array([3, 1, 8, ..., 5, 4, 7])"
      ]
     },
     "execution_count": 31,
     "metadata": {},
     "output_type": "execute_result"
    }
   ],
   "source": [
    "predictions = np.argmax(preds_prob,axis=1)\n",
    "predictions"
   ]
  },
  {
   "cell_type": "code",
   "execution_count": 32,
   "metadata": {},
   "outputs": [],
   "source": [
    "from sklearn.metrics import accuracy_score"
   ]
  },
  {
   "cell_type": "code",
   "execution_count": 33,
   "metadata": {},
   "outputs": [
    {
     "data": {
      "text/plain": [
       "77.03"
      ]
     },
     "execution_count": 33,
     "metadata": {},
     "output_type": "execute_result"
    }
   ],
   "source": [
    "accuracy_score(test_labels,predictions)*100"
   ]
  },
  {
   "cell_type": "code",
   "execution_count": 8,
   "metadata": {},
   "outputs": [],
   "source": [
    "import numpy as np"
   ]
  },
  {
   "cell_type": "code",
   "execution_count": 9,
   "metadata": {},
   "outputs": [],
   "source": [
    "import requests"
   ]
  },
  {
   "cell_type": "code",
   "execution_count": 10,
   "metadata": {},
   "outputs": [],
   "source": [
    "from PIL import Image"
   ]
  },
  {
   "cell_type": "code",
   "execution_count": 11,
   "metadata": {},
   "outputs": [],
   "source": [
    "from io import BytesIO"
   ]
  },
  {
   "cell_type": "code",
   "execution_count": 13,
   "metadata": {},
   "outputs": [
    {
     "data": {
      "text/plain": [
       "array([[[0.        , 0.        , 0.        ],\n",
       "        [0.        , 0.        , 0.        ],\n",
       "        [0.        , 0.        , 0.        ],\n",
       "        ...,\n",
       "        [0.        , 0.        , 0.        ],\n",
       "        [0.        , 0.        , 0.        ],\n",
       "        [0.        , 0.        , 0.        ]],\n",
       "\n",
       "       [[0.        , 0.        , 0.        ],\n",
       "        [0.        , 0.        , 0.        ],\n",
       "        [0.        , 0.        , 0.        ],\n",
       "        ...,\n",
       "        [0.        , 0.        , 0.        ],\n",
       "        [0.        , 0.        , 0.        ],\n",
       "        [0.        , 0.        , 0.        ]],\n",
       "\n",
       "       [[0.        , 0.        , 0.        ],\n",
       "        [0.        , 0.        , 0.        ],\n",
       "        [0.        , 0.        , 0.        ],\n",
       "        ...,\n",
       "        [0.        , 0.        , 0.        ],\n",
       "        [0.        , 0.        , 0.        ],\n",
       "        [0.        , 0.        , 0.        ]],\n",
       "\n",
       "       ...,\n",
       "\n",
       "       [[0.02745098, 0.0627451 , 0.09803922],\n",
       "        [0.03137255, 0.06666667, 0.10588235],\n",
       "        [0.03529412, 0.07058824, 0.12156863],\n",
       "        ...,\n",
       "        [0.02745098, 0.05882353, 0.09803922],\n",
       "        [0.02352941, 0.05098039, 0.09019608],\n",
       "        [0.02352941, 0.04705882, 0.08235294]],\n",
       "\n",
       "       [[0.01568627, 0.04705882, 0.08235294],\n",
       "        [0.01960784, 0.05098039, 0.08627451],\n",
       "        [0.02352941, 0.05490196, 0.09019608],\n",
       "        ...,\n",
       "        [0.01960784, 0.04313725, 0.0745098 ],\n",
       "        [0.01568627, 0.03529412, 0.0627451 ],\n",
       "        [0.01568627, 0.03529412, 0.05490196]],\n",
       "\n",
       "       [[0.01176471, 0.03529412, 0.05882353],\n",
       "        [0.01176471, 0.03921569, 0.06666667],\n",
       "        [0.01176471, 0.03921569, 0.07058824],\n",
       "        ...,\n",
       "        [0.01176471, 0.03137255, 0.05098039],\n",
       "        [0.00784314, 0.02352941, 0.04705882],\n",
       "        [0.00784314, 0.02352941, 0.04313725]]])"
      ]
     },
     "execution_count": 13,
     "metadata": {},
     "output_type": "execute_result"
    }
   ],
   "source": [
    "load_preprocess_predict1('https://static-bestcolleges.tosshub.com/2024/News/kV29KfjpXuHCrTFpNQZHAlscd2MwtvBpFIPRLE8r.webp')"
   ]
  },
  {
   "cell_type": "code",
   "execution_count": 21,
   "metadata": {},
   "outputs": [],
   "source": [
    "\n",
    "def load_preprocess_predict(url):\n",
    "    response = requests.get(url)\n",
    "    img = Image.open(BytesIO(response.content))\n",
    "    resized = img.resize([32,32])\n",
    "    img_arr = np.array(resized)\n",
    "    scaled_img = img_arr/255\n",
    "    mplt.imshow(scaled_img)\n",
    "    declared_batch = np.expand_dims(scaled_img,axis=0)\n",
    "    preds_prob = cnn_model.predict(declared_batch)\n",
    "    category = np.argmax(preds_prob)\n",
    "    print('The image is:',labels_classes[category])"
   ]
  },
  {
   "cell_type": "code",
   "execution_count": 22,
   "metadata": {},
   "outputs": [
    {
     "name": "stdout",
     "output_type": "stream",
     "text": [
      "1/1 [==============================] - 0s 24ms/step\n",
      "The image is: automobile\n"
     ]
    },
    {
     "data": {
      "image/png": "[encoded data removed]",
      "text/plain": [
       "<Figure size 640x480 with 1 Axes>"
      ]
     },
     "metadata": {},
     "output_type": "display_data"
    }
   ],
   "source": [
    "load_preprocess_predict('https://static-bestcolleges.tosshub.com/2024/News/kV29KfjpXuHCrTFpNQZHAlscd2MwtvBpFIPRLE8r.webp')"
   ]
  },
  {
   "cell_type": "code",
   "execution_count": 23,
   "metadata": {},
   "outputs": [
    {
     "name": "stdout",
     "output_type": "stream",
     "text": [
      "1/1 [==============================] - 0s 25ms/step\n",
      "The image is: Airplane\n"
     ]
    },
    {
     "data": {
      "image/png": "[encoded data removed]",
      "text/plain": [
       "<Figure size 640x480 with 1 Axes>"
      ]
     },
     "metadata": {},
     "output_type": "display_data"
    }
   ],
   "source": [
    "load_preprocess_predict('https://img.freepik.com/free-psd/plane-mockup_1310-1053.jpg?w=1800&t=st=1718983336~exp=1718983936~hmac=354bb9bcede3e95cb27c6608695325d45935d5655eeca805a9abbfa11624d24a')"
   ]
  },
  {
   "cell_type": "code",
   "execution_count": 43,
   "metadata": {},
   "outputs": [
    {
     "name": "stdout",
     "output_type": "stream",
     "text": [
      "1/1 [==============================] - 0s 24ms/step\n",
      "The image is: automobile\n"
     ]
    },
    {
     "data": {
      "image/png": "[encoded data removed]",
      "text/plain": [
       "<Figure size 640x480 with 1 Axes>"
      ]
     },
     "metadata": {},
     "output_type": "display_data"
    }
   ],
   "source": [
    "load_preprocess_predict('https://static-bestcolleges.tosshub.com/2024/News/kV29KfjpXuHCrTFpNQZHAlscd2MwtvBpFIPRLE8r.webp')"
   ]
  },
  {
   "cell_type": "code",
   "execution_count": 44,
   "metadata": {},
   "outputs": [
    {
     "name": "stdout",
     "output_type": "stream",
     "text": [
      "1/1 [==============================] - 0s 30ms/step\n",
      "The image is: frog\n"
     ]
    },
    {
     "data": {
      "image/png": "[encoded data removed]",
      "text/plain": [
       "<Figure size 640x480 with 1 Axes>"
      ]
     },
     "metadata": {},
     "output_type": "display_data"
    }
   ],
   "source": [
    "load_preprocess_predict('https://bsmedia.business-standard.com/_media/bs/img/article/2023-10/22/full/1697997699-3696.jpg?im=FeatureCrop,size=(826,465)')"
   ]
  },
  {
   "cell_type": "code",
   "execution_count": 47,
   "metadata": {},
   "outputs": [
    {
     "name": "stdout",
     "output_type": "stream",
     "text": [
      "1/1 [==============================] - 0s 26ms/step\n",
      "The image is: Airplane\n"
     ]
    },
    {
     "data": {
      "image/png": "[encoded data removed]",
      "text/plain": [
       "<Figure size 640x480 with 1 Axes>"
      ]
     },
     "metadata": {},
     "output_type": "display_data"
    }
   ],
   "source": [
    "load_preprocess_predict('https://blogmedia.testbook.com/blog/wp-content/uploads/2023/10/type-of-automobiles-9df258b2.png')"
   ]
  },
  {
   "cell_type": "code",
   "execution_count": 48,
   "metadata": {},
   "outputs": [
    {
     "name": "stdout",
     "output_type": "stream",
     "text": [
      "1/1 [==============================] - 0s 24ms/step\n",
      "The image is: truck\n"
     ]
    },
    {
     "data": {
      "image/png": "[encoded data removed]",
      "text/plain": [
       "<Figure size 640x480 with 1 Axes>"
      ]
     },
     "metadata": {},
     "output_type": "display_data"
    }
   ],
   "source": [
    "load_preprocess_predict('https://images.pexels.com/photos/120049/pexels-photo-120049.jpeg?auto=compress&cs=tinysrgb&w=1260&h=750&dpr=2')"
   ]
  },
  {
   "cell_type": "code",
   "execution_count": 49,
   "metadata": {},
   "outputs": [
    {
     "name": "stdout",
     "output_type": "stream",
     "text": [
      "1/1 [==============================] - 0s 24ms/step\n",
      "The image is: automobile\n"
     ]
    },
    {
     "data": {
      "image/png": "[encoded data removed]",
      "text/plain": [
       "<Figure size 640x480 with 1 Axes>"
      ]
     },
     "metadata": {},
     "output_type": "display_data"
    }
   ],
   "source": [
    "load_preprocess_predict('https://images.pexels.com/photos/1592384/pexels-photo-1592384.jpeg?auto=compress&cs=tinysrgb&w=1260&h=750&dpr=2')"
   ]
  },
  {
   "cell_type": "code",
   "execution_count": null,
   "metadata": {},
   "outputs": [],
   "source": []
  },
  {
   "cell_type": "code",
   "execution_count": null,
   "metadata": {},
   "outputs": [],
   "source": []
  },
  {
   "cell_type": "code",
   "execution_count": null,
   "metadata": {},
   "outputs": [],
   "source": []
  },
  {
   "cell_type": "code",
   "execution_count": null,
   "metadata": {},
   "outputs": [],
   "source": []
  },
  {
   "cell_type": "code",
   "execution_count": null,
   "metadata": {},
   "outputs": [],
   "source": []
  }
 ],
 "metadata": {
  "kernelspec": {
   "display_name": "Python 3",
   "language": "python",
   "name": "python3"
  },
  "language_info": {
   "codemirror_mode": {
    "name": "ipython",
    "version": 3
   },
   "file_extension": ".py",
   "mimetype": "text/x-python",
   "name": "python",
   "nbconvert_exporter": "python",
   "pygments_lexer": "ipython3",
   "version": "3.8.undefined"
  }
 },
 "nbformat": 4,
 "nbformat_minor": 2
}
